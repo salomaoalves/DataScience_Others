{
 "cells": [
  {
   "cell_type": "code",
   "execution_count": 1,
   "metadata": {},
   "outputs": [],
   "source": [
    "# libs\n",
    "from pulp import *"
   ]
  },
  {
   "cell_type": "markdown",
   "metadata": {},
   "source": [
    "## Defining Problem"
   ]
  },
  {
   "cell_type": "markdown",
   "metadata": {},
   "source": [
    "A company sells three types of product (prod_1, prod_2, prod_3), currently, she has no stock and does not want to have leftovers at the end of the month. The forecast for next month is the sale of 1200 units of prod_1, 980 of prod_2 and 2000 of prod_3.\n",
    "\n",
    "The products prod_1, prod_2, prod_3 are sold for 500 reais, 350 reais, 150 reais, respectively. The cost of materials for each is 395 reais, 266 reais and 73 reais, respectively.\n",
    "\n",
    "The company is relatively large, having, in one month, the capacity to carry out 17,000 hours of mounting and 6,200 hours of tests (fundamental steps in the construction of the product), where the hours are worth 14 reais and 19 reais, respectively.\n",
    "\n",
    "The time taken to build the products is: prod_1 is 8 hours of mounting and 3 hours of testing; prod_2 is 6 hours of mounting and 2.5 hours of testing; prod_3 is 3 hours of mounting and 1 hour of testing.\n",
    "\n",
    "### 1 Problem\n",
    "The company wants to know how many units of each product it must produce (mounting and test) to maximize its net profit (none of the restrictions can be broken).\n",
    "\n",
    "### 2 Problem\n",
    "The company wants to know how many units of each product it must produce (mounting and test) to have a net profit of 500,000 reais and whether it already has the infrastructure to do so."
   ]
  },
  {
   "cell_type": "markdown",
   "metadata": {},
   "source": [
    "### Parameters"
   ]
  },
  {
   "cell_type": "code",
   "execution_count": 2,
   "metadata": {},
   "outputs": [],
   "source": [
    "#Pqty\n",
    "prod_1, prod_2, prod_3 = 1200, 980, 2000\n",
    "\n",
    "#Sp\n",
    "sale_1, sale_2, sale_3 = 600, 550, 150\n",
    "\n",
    "#Cp\n",
    "cost_1, cost_2, cost_3 = 395, 266, 73\n",
    "\n",
    "#CMp\n",
    "cmounting_1, cmounting_2, cmounting_3 = 14, 14, 14\n",
    "\n",
    "#CTp\n",
    "ctest_1, ctest_2, ctest_3 = 19, 19, 19\n",
    "\n",
    "#HMp\n",
    "hmounting_1, hmounting_2, hmounting_3 = 8, 6, 3\n",
    "\n",
    "#HTp\n",
    "htest_1, htest_2, htest_3 = 3, 2.5, 1\n",
    "\n",
    "#Company capacity\n",
    "mounting_max = 17000\n",
    "test_max = 6200\n",
    "profit_p2 = 50000"
   ]
  },
  {
   "cell_type": "markdown",
   "metadata": {},
   "source": [
    "### Quantity Variables"
   ]
  },
  {
   "cell_type": "code",
   "execution_count": 3,
   "metadata": {},
   "outputs": [],
   "source": [
    "x_prod1 = LpVariable(\"Unidades Prod1\", 0, None, LpInteger)\n",
    "x_prod2 = LpVariable(\"Unidades Prod2\", 0, None, LpInteger)\n",
    "x_prod3 = LpVariable(\"Unidades Prod3\", 0, None, LpInteger)"
   ]
  },
  {
   "cell_type": "markdown",
   "metadata": {},
   "source": [
    "### Cost Function"
   ]
  },
  {
   "cell_type": "markdown",
   "metadata": {},
   "source": [
    "* profit = $\\sum Pqty*Sp$ - $\\sum Pqty*HMp*CMp$ - $\\sum Pqty*Htp*CTp$ - $\\sum Pqty*Cp$"
   ]
  },
  {
   "cell_type": "code",
   "execution_count": 4,
   "metadata": {},
   "outputs": [],
   "source": [
    "revenues = (x_prod1*sale_1) + (x_prod2*sale_2) + (x_prod3*sale_3)\n",
    "mounting_spend = (x_prod1*hmounting_1*cmounting_1) + (x_prod2*hmounting_2*cmounting_2) + (x_prod3*hmounting_3*cmounting_3)\n",
    "test_spend = (x_prod1*htest_1*ctest_1) + (x_prod2*htest_2*ctest_2) + (x_prod3*htest_3*ctest_3)\n",
    "cost_material = (x_prod1*cost_1) + (x_prod2*cost_2) + (x_prod3*cost_3)"
   ]
  },
  {
   "cell_type": "code",
   "execution_count": 5,
   "metadata": {},
   "outputs": [],
   "source": [
    "cost_function = revenues - mounting_spend - test_spend - cost_material"
   ]
  },
  {
   "cell_type": "markdown",
   "metadata": {},
   "source": [
    "## 1 Problem - Product Quantity"
   ]
  },
  {
   "cell_type": "markdown",
   "metadata": {},
   "source": [
    "### Create the object problem"
   ]
  },
  {
   "cell_type": "code",
   "execution_count": 6,
   "metadata": {},
   "outputs": [
    {
     "data": {
      "text/plain": [
       "MaxProfit:\n",
       "MAXIMIZE\n",
       "36*Unidades_Prod1 + 152.5*Unidades_Prod2 + 16*Unidades_Prod3 + 0.0\n",
       "VARIABLES\n",
       "0 <= Unidades_Prod1 Integer\n",
       "0 <= Unidades_Prod2 Integer\n",
       "0 <= Unidades_Prod3 Integer"
      ]
     },
     "execution_count": 6,
     "metadata": {},
     "output_type": "execute_result"
    }
   ],
   "source": [
    "problem = LpProblem(\"MaxProfit\", LpMaximize)\n",
    "problem += cost_function\n",
    "problem"
   ]
  },
  {
   "cell_type": "markdown",
   "metadata": {},
   "source": [
    "### Create Constraints"
   ]
  },
  {
   "cell_type": "code",
   "execution_count": 7,
   "metadata": {},
   "outputs": [],
   "source": [
    "# Max amount of mount/test time\n",
    "problem += (x_prod1*hmounting_1) + (x_prod2*hmounting_2) +(x_prod3*hmounting_3) <= mounting_max,\"Max Amount of Mounting Time\"\n",
    "problem += (x_prod1*htest_1) + (x_prod2*htest_2) +(x_prod3*htest_3) <= test_max,\"Max Amount of Test Time\""
   ]
  },
  {
   "cell_type": "code",
   "execution_count": 8,
   "metadata": {},
   "outputs": [],
   "source": [
    "# Production is equal or lower than the prediction\n",
    "problem += x_prod1 <= prod_1,\"Production 1 equal or lower\"\n",
    "problem += x_prod2 <= prod_2,\"Production 2 equal or lower\"\n",
    "problem += x_prod3 <= prod_3,\"Production 3 equal or lower\""
   ]
  },
  {
   "cell_type": "code",
   "execution_count": 9,
   "metadata": {},
   "outputs": [
    {
     "data": {
      "text/plain": [
       "MaxProfit:\n",
       "MAXIMIZE\n",
       "36*Unidades_Prod1 + 152.5*Unidades_Prod2 + 16*Unidades_Prod3 + 0.0\n",
       "SUBJECT TO\n",
       "Max_Amount_of_Mounting_Time: 8 Unidades_Prod1 + 6 Unidades_Prod2\n",
       " + 3 Unidades_Prod3 <= 17000\n",
       "\n",
       "Max_Amount_of_Test_Time: 3 Unidades_Prod1 + 2.5 Unidades_Prod2\n",
       " + Unidades_Prod3 <= 6200\n",
       "\n",
       "Production_1_equal_or_lower: Unidades_Prod1 <= 1200\n",
       "\n",
       "Production_2_equal_or_lower: Unidades_Prod2 <= 980\n",
       "\n",
       "Production_3_equal_or_lower: Unidades_Prod3 <= 2000\n",
       "\n",
       "VARIABLES\n",
       "0 <= Unidades_Prod1 Integer\n",
       "0 <= Unidades_Prod2 Integer\n",
       "0 <= Unidades_Prod3 Integer"
      ]
     },
     "execution_count": 9,
     "metadata": {},
     "output_type": "execute_result"
    }
   ],
   "source": [
    "# Final Problem\n",
    "problem"
   ]
  },
  {
   "cell_type": "markdown",
   "metadata": {},
   "source": [
    "### Resolve Problem"
   ]
  },
  {
   "cell_type": "code",
   "execution_count": 10,
   "metadata": {},
   "outputs": [
    {
     "name": "stdout",
     "output_type": "stream",
     "text": [
      "Solution found!!!\n",
      "Max profit possible: R$202442.0\n",
      "Quantity of prod_1: 584.0 units\n",
      "Quantity of prod_2: 980.0 units\n",
      "Quantity of prod_3: 1998.0 units\n"
     ]
    }
   ],
   "source": [
    "if problem.solve():\n",
    "    print(\"Solution found!!!\")\n",
    "    print(f\"Max profit possible: R${value(problem.objective)}\")\n",
    "    print(f\"Quantity of prod_1: {problem.variables()[0].varValue} units\")\n",
    "    print(f\"Quantity of prod_2: {problem.variables()[1].varValue} units\")\n",
    "    print(f\"Quantity of prod_3: {problem.variables()[2].varValue} units\")\n",
    "else:\n",
    "    print(\"No solution found!!\")"
   ]
  },
  {
   "cell_type": "markdown",
   "metadata": {},
   "source": [
    "## 2 Problem - Mount Time"
   ]
  },
  {
   "cell_type": "markdown",
   "metadata": {},
   "source": [
    "### Create the object problem"
   ]
  },
  {
   "cell_type": "code",
   "execution_count": 11,
   "metadata": {},
   "outputs": [
    {
     "data": {
      "text/plain": [
       "Profit500k:\n",
       "MINIMIZE\n",
       "36*Unidades_Prod1 + 152.5*Unidades_Prod2 + 16*Unidades_Prod3 + 0.0\n",
       "VARIABLES\n",
       "0 <= Unidades_Prod1 Integer\n",
       "0 <= Unidades_Prod2 Integer\n",
       "0 <= Unidades_Prod3 Integer"
      ]
     },
     "execution_count": 11,
     "metadata": {},
     "output_type": "execute_result"
    }
   ],
   "source": [
    "problem = LpProblem(\"Profit500k\", LpMinimize)\n",
    "problem += cost_function\n",
    "problem"
   ]
  },
  {
   "cell_type": "markdown",
   "metadata": {},
   "source": [
    "### Create Constraints"
   ]
  },
  {
   "cell_type": "code",
   "execution_count": 12,
   "metadata": {},
   "outputs": [],
   "source": [
    "# Profit need to be R$500.000\n",
    "problem += cost_function == 500000, \"Final\""
   ]
  },
  {
   "cell_type": "code",
   "execution_count": 13,
   "metadata": {},
   "outputs": [
    {
     "data": {
      "text/plain": [
       "Profit500k:\n",
       "MINIMIZE\n",
       "36*Unidades_Prod1 + 152.5*Unidades_Prod2 + 16*Unidades_Prod3 + 0.0\n",
       "SUBJECT TO\n",
       "Final: 36 Unidades_Prod1 + 152.5 Unidades_Prod2 + 16 Unidades_Prod3 = 500000\n",
       "\n",
       "VARIABLES\n",
       "0 <= Unidades_Prod1 Integer\n",
       "0 <= Unidades_Prod2 Integer\n",
       "0 <= Unidades_Prod3 Integer"
      ]
     },
     "execution_count": 13,
     "metadata": {},
     "output_type": "execute_result"
    }
   ],
   "source": [
    "# Final Problem\n",
    "problem"
   ]
  },
  {
   "cell_type": "markdown",
   "metadata": {},
   "source": [
    "### Resolve Problem"
   ]
  },
  {
   "cell_type": "code",
   "execution_count": 14,
   "metadata": {},
   "outputs": [
    {
     "name": "stdout",
     "output_type": "stream",
     "text": [
      "Solution found!!!\n",
      "Max profit possible: R$500000.0\n",
      "Quantity of prod_1: 7.0 units\n",
      "Quantity of prod_2: 3272.0 units\n",
      "Quantity of prod_3: 48.0 units\n",
      "Amount of mounting time: 19832.0 hours\n",
      "Amount of test time: 8249.0 hours\n"
     ]
    }
   ],
   "source": [
    "if problem.solve():\n",
    "    print(\"Solution found!!!\")\n",
    "    print(f\"Max profit possible: R${value(problem.objective)}\")\n",
    "    print(f\"Quantity of prod_1: {problem.variables()[0].varValue} units\")\n",
    "    print(f\"Quantity of prod_2: {problem.variables()[1].varValue} units\")\n",
    "    print(f\"Quantity of prod_3: {problem.variables()[2].varValue} units\")\n",
    "    print(f\"Amount of mounting time: {(problem.variables()[0].varValue*hmounting_1)+(problem.variables()[1].varValue*hmounting_2)+(problem.variables()[2].varValue*hmounting_3)} hours\")\n",
    "    print(f\"Amount of test time: {(problem.variables()[0].varValue*htest_1)+(problem.variables()[1].varValue*htest_2)+(problem.variables()[2].varValue*htest_3)} hours\")\n",
    "else:\n",
    "    print(\"No solution found!!\")"
   ]
  }
 ],
 "metadata": {
  "kernelspec": {
   "display_name": "Python 3",
   "language": "python",
   "name": "python3"
  },
  "language_info": {
   "codemirror_mode": {
    "name": "ipython",
    "version": 3
   },
   "file_extension": ".py",
   "mimetype": "text/x-python",
   "name": "python",
   "nbconvert_exporter": "python",
   "pygments_lexer": "ipython3",
   "version": "3.7.7"
  }
 },
 "nbformat": 4,
 "nbformat_minor": 2
}
