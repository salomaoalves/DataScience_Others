{
 "cells": [
  {
   "cell_type": "code",
   "execution_count": 1,
   "metadata": {},
   "outputs": [],
   "source": [
    "# Basics\n",
    "import pandas as pd\n",
    "import numpy as np\n",
    "\n",
    "# Data Visualization\n",
    "import matplotlib.pyplot as plt\n",
    "import seaborn as sns\n",
    "sns.set(style='whitegrid')"
   ]
  },
  {
   "cell_type": "markdown",
   "metadata": {},
   "source": [
    "# Load Data"
   ]
  },
  {
   "cell_type": "code",
   "execution_count": 2,
   "metadata": {},
   "outputs": [],
   "source": [
    "flag_file = 0 #1: Grocery and Food; 0: Video Games\n",
    "columns_name = ['user_id','prod_id','rating', 'timestamp']\n",
    "if flag_file:\n",
    "    df = pd.read_csv('data/ratings_Grocery_and_Gourmet_Food.csv', header=None, names=columns_name)\n",
    "else:\n",
    "    df = pd.read_csv('data/ratings_Video_Games.csv', header=None, names=columns_name)"
   ]
  },
  {
   "cell_type": "code",
   "execution_count": 3,
   "metadata": {},
   "outputs": [
    {
     "data": {
      "text/html": [
       "<div>\n",
       "<style scoped>\n",
       "    .dataframe tbody tr th:only-of-type {\n",
       "        vertical-align: middle;\n",
       "    }\n",
       "\n",
       "    .dataframe tbody tr th {\n",
       "        vertical-align: top;\n",
       "    }\n",
       "\n",
       "    .dataframe thead th {\n",
       "        text-align: right;\n",
       "    }\n",
       "</style>\n",
       "<table border=\"1\" class=\"dataframe\">\n",
       "  <thead>\n",
       "    <tr style=\"text-align: right;\">\n",
       "      <th></th>\n",
       "      <th>user_id</th>\n",
       "      <th>prod_id</th>\n",
       "      <th>rating</th>\n",
       "      <th>timestamp</th>\n",
       "    </tr>\n",
       "  </thead>\n",
       "  <tbody>\n",
       "    <tr>\n",
       "      <th>0</th>\n",
       "      <td>AB9S9279OZ3QO</td>\n",
       "      <td>0078764343</td>\n",
       "      <td>5.0</td>\n",
       "      <td>1373155200</td>\n",
       "    </tr>\n",
       "    <tr>\n",
       "      <th>1</th>\n",
       "      <td>A24SSUT5CSW8BH</td>\n",
       "      <td>0078764343</td>\n",
       "      <td>5.0</td>\n",
       "      <td>1377302400</td>\n",
       "    </tr>\n",
       "    <tr>\n",
       "      <th>2</th>\n",
       "      <td>AK3V0HEBJMQ7J</td>\n",
       "      <td>0078764343</td>\n",
       "      <td>4.0</td>\n",
       "      <td>1372896000</td>\n",
       "    </tr>\n",
       "    <tr>\n",
       "      <th>3</th>\n",
       "      <td>A10BECPH7W8HM7</td>\n",
       "      <td>043933702X</td>\n",
       "      <td>5.0</td>\n",
       "      <td>1404950400</td>\n",
       "    </tr>\n",
       "    <tr>\n",
       "      <th>4</th>\n",
       "      <td>A2PRV9OULX1TWP</td>\n",
       "      <td>043933702X</td>\n",
       "      <td>5.0</td>\n",
       "      <td>1386115200</td>\n",
       "    </tr>\n",
       "  </tbody>\n",
       "</table>\n",
       "</div>"
      ],
      "text/plain": [
       "          user_id     prod_id  rating   timestamp\n",
       "0   AB9S9279OZ3QO  0078764343     5.0  1373155200\n",
       "1  A24SSUT5CSW8BH  0078764343     5.0  1377302400\n",
       "2   AK3V0HEBJMQ7J  0078764343     4.0  1372896000\n",
       "3  A10BECPH7W8HM7  043933702X     5.0  1404950400\n",
       "4  A2PRV9OULX1TWP  043933702X     5.0  1386115200"
      ]
     },
     "execution_count": 3,
     "metadata": {},
     "output_type": "execute_result"
    }
   ],
   "source": [
    "# See First 5 Records\n",
    "df.head()"
   ]
  },
  {
   "cell_type": "markdown",
   "metadata": {},
   "source": [
    "# Exploratory Data Analysis"
   ]
  },
  {
   "cell_type": "code",
   "execution_count": 4,
   "metadata": {},
   "outputs": [
    {
     "name": "stdout",
     "output_type": "stream",
     "text": [
      "Geral Information\n",
      "Total number of ratings: 1324753\n",
      "Total number of users: 826767\n",
      "Total number of products: 50210\n"
     ]
    }
   ],
   "source": [
    "print(\"Geral Information\")\n",
    "print(f\"Total number of ratings: {df.shape[0]}\")\n",
    "print(f\"Total number of users: {len(np.unique(df.user_id))}\")\n",
    "print(f\"Total number of products: {len(np.unique(df.prod_id))}\")"
   ]
  },
  {
   "cell_type": "code",
   "execution_count": 5,
   "metadata": {},
   "outputs": [
    {
     "name": "stdout",
     "output_type": "stream",
     "text": [
      "<class 'pandas.core.frame.DataFrame'>\n",
      "RangeIndex: 1324753 entries, 0 to 1324752\n",
      "Data columns (total 4 columns):\n",
      " #   Column     Non-Null Count    Dtype  \n",
      "---  ------     --------------    -----  \n",
      " 0   user_id    1324753 non-null  object \n",
      " 1   prod_id    1324753 non-null  object \n",
      " 2   rating     1324753 non-null  float64\n",
      " 3   timestamp  1324753 non-null  int64  \n",
      "dtypes: float64(1), int64(1), object(2)\n",
      "memory usage: 40.4+ MB\n"
     ]
    }
   ],
   "source": [
    "# Some important information\n",
    "df.info()"
   ]
  },
  {
   "cell_type": "code",
   "execution_count": 6,
   "metadata": {},
   "outputs": [
    {
     "data": {
      "text/html": [
       "<div>\n",
       "<style scoped>\n",
       "    .dataframe tbody tr th:only-of-type {\n",
       "        vertical-align: middle;\n",
       "    }\n",
       "\n",
       "    .dataframe tbody tr th {\n",
       "        vertical-align: top;\n",
       "    }\n",
       "\n",
       "    .dataframe thead th {\n",
       "        text-align: right;\n",
       "    }\n",
       "</style>\n",
       "<table border=\"1\" class=\"dataframe\">\n",
       "  <thead>\n",
       "    <tr style=\"text-align: right;\">\n",
       "      <th></th>\n",
       "      <th>rating</th>\n",
       "      <th>timestamp</th>\n",
       "    </tr>\n",
       "  </thead>\n",
       "  <tbody>\n",
       "    <tr>\n",
       "      <th>count</th>\n",
       "      <td>1.324753e+06</td>\n",
       "      <td>1.324753e+06</td>\n",
       "    </tr>\n",
       "    <tr>\n",
       "      <th>mean</th>\n",
       "      <td>3.978754e+00</td>\n",
       "      <td>1.299234e+09</td>\n",
       "    </tr>\n",
       "    <tr>\n",
       "      <th>std</th>\n",
       "      <td>1.378987e+00</td>\n",
       "      <td>1.092552e+08</td>\n",
       "    </tr>\n",
       "    <tr>\n",
       "      <th>min</th>\n",
       "      <td>1.000000e+00</td>\n",
       "      <td>8.789472e+08</td>\n",
       "    </tr>\n",
       "    <tr>\n",
       "      <th>25%</th>\n",
       "      <td>3.000000e+00</td>\n",
       "      <td>1.252022e+09</td>\n",
       "    </tr>\n",
       "    <tr>\n",
       "      <th>50%</th>\n",
       "      <td>5.000000e+00</td>\n",
       "      <td>1.346544e+09</td>\n",
       "    </tr>\n",
       "    <tr>\n",
       "      <th>75%</th>\n",
       "      <td>5.000000e+00</td>\n",
       "      <td>1.379894e+09</td>\n",
       "    </tr>\n",
       "    <tr>\n",
       "      <th>max</th>\n",
       "      <td>5.000000e+00</td>\n",
       "      <td>1.406074e+09</td>\n",
       "    </tr>\n",
       "  </tbody>\n",
       "</table>\n",
       "</div>"
      ],
      "text/plain": [
       "             rating     timestamp\n",
       "count  1.324753e+06  1.324753e+06\n",
       "mean   3.978754e+00  1.299234e+09\n",
       "std    1.378987e+00  1.092552e+08\n",
       "min    1.000000e+00  8.789472e+08\n",
       "25%    3.000000e+00  1.252022e+09\n",
       "50%    5.000000e+00  1.346544e+09\n",
       "75%    5.000000e+00  1.379894e+09\n",
       "max    5.000000e+00  1.406074e+09"
      ]
     },
     "execution_count": 6,
     "metadata": {},
     "output_type": "execute_result"
    }
   ],
   "source": [
    "# Summary\n",
    "df.describe()"
   ]
  },
  {
   "cell_type": "code",
   "execution_count": 7,
   "metadata": {},
   "outputs": [
    {
     "name": "stderr",
     "output_type": "stream",
     "text": [
      "/home/salomao/anaconda3/lib/python3.7/site-packages/seaborn/categorical.py:3714: UserWarning: The `factorplot` function has been renamed to `catplot`. The original name will be removed in a future release. Please update your code. Note that the default `kind` in `factorplot` (`'point'`) has changed `'strip'` in `catplot`.\n",
      "  warnings.warn(msg)\n",
      "/home/salomao/anaconda3/lib/python3.7/site-packages/seaborn/_decorators.py:43: FutureWarning: Pass the following variable as a keyword arg: x. From version 0.12, the only valid positional argument will be `data`, and passing other arguments without an explicit keyword will result in an error or misinterpretation.\n",
      "  FutureWarning\n"
     ]
    },
    {
     "data": {
      "image/png": "[encoded data removed]",
      "text/plain": [
       "<Figure size 720x360 with 1 Axes>"
      ]
     },
     "metadata": {},
     "output_type": "display_data"
    }
   ],
   "source": [
    "# Check the distribution of the rating\n",
    "with sns.axes_style('white'):\n",
    "    g = sns.factorplot('rating', data=df, aspect=2.0,kind='count')\n",
    "    g.set_ylabels(\"Total number of ratings\")"
   ]
  },
  {
   "cell_type": "code",
   "execution_count": 8,
   "metadata": {},
   "outputs": [
    {
     "name": "stdout",
     "output_type": "stream",
     "text": [
      "Average Number of Ratings by User: 1.6\n",
      "Quantity of users that rated:\n",
      "less than 3 products: 742494 - representing 89.81% of the data\n",
      "3 or more products: 84273 - representing 10.19% of the data\n",
      "50 or more products: 351 - representing 0.04% of the data\n"
     ]
    }
   ],
   "source": [
    "# Rate frequency by user\n",
    "user_rate_freq = df.groupby('user_id')['rating'].count().sort_values(ascending=False)\n",
    "total = len(np.unique(df.user_id))\n",
    "\n",
    "print(f'Average Number of Ratings by User: {round(len(df)/len(df.user_id.unique()),2)}')\n",
    "print(\"Quantity of users that rated:\")\n",
    "print(f'less than 3 products: {sum(user_rate_freq<3)} - representing {round(sum(user_rate_freq<3)*100/total,2)}% of the data')\n",
    "print(f'3 or more products: {sum(user_rate_freq>=3)} - representing {round(sum(user_rate_freq>=3)*100/total,2)}% of the data')\n",
    "print(f'50 or more products: {sum(user_rate_freq>=50)} - representing {round(sum(user_rate_freq>=50)*100/total,2)}% of the data')"
   ]
  },
  {
   "cell_type": "markdown",
   "metadata": {},
   "source": [
    "In short, the data is organized correctly, not having null-valued fields. It has the most rating of 5 grades, with an average of 4.25 and a standard deviation of 1.25, that is, most grades are between the range 3 - 5. Although users have an average rating of almost 2 products, the amount of users with ratings from 0 to 2 products is 88%, while users with 50 or more product reviews represent a small slice, less than 0.06% of users. Therefore, few users rate very often."
   ]
  },
  {
   "cell_type": "markdown",
   "metadata": {},
   "source": [
    "# Popularity Based Recommender"
   ]
  },
  {
   "cell_type": "code",
   "execution_count": 9,
   "metadata": {},
   "outputs": [
    {
     "data": {
      "text/html": [
       "<div>\n",
       "<style scoped>\n",
       "    .dataframe tbody tr th:only-of-type {\n",
       "        vertical-align: middle;\n",
       "    }\n",
       "\n",
       "    .dataframe tbody tr th {\n",
       "        vertical-align: top;\n",
       "    }\n",
       "\n",
       "    .dataframe thead th {\n",
       "        text-align: right;\n",
       "    }\n",
       "</style>\n",
       "<table border=\"1\" class=\"dataframe\">\n",
       "  <thead>\n",
       "    <tr style=\"text-align: right;\">\n",
       "      <th></th>\n",
       "      <th>rating</th>\n",
       "      <th>rating_counts</th>\n",
       "    </tr>\n",
       "    <tr>\n",
       "      <th>prod_id</th>\n",
       "      <th></th>\n",
       "      <th></th>\n",
       "    </tr>\n",
       "  </thead>\n",
       "  <tbody>\n",
       "    <tr>\n",
       "      <th>B00DJFIMW6</th>\n",
       "      <td>4.464645</td>\n",
       "      <td>16221</td>\n",
       "    </tr>\n",
       "    <tr>\n",
       "      <th>B00BGA9WK2</th>\n",
       "      <td>4.075519</td>\n",
       "      <td>7561</td>\n",
       "    </tr>\n",
       "    <tr>\n",
       "      <th>B00FAX6XQC</th>\n",
       "      <td>4.190268</td>\n",
       "      <td>5713</td>\n",
       "    </tr>\n",
       "    <tr>\n",
       "      <th>B009KS4XRO</th>\n",
       "      <td>4.046092</td>\n",
       "      <td>5489</td>\n",
       "    </tr>\n",
       "    <tr>\n",
       "      <th>B002VBWIP6</th>\n",
       "      <td>4.636802</td>\n",
       "      <td>5190</td>\n",
       "    </tr>\n",
       "  </tbody>\n",
       "</table>\n",
       "</div>"
      ],
      "text/plain": [
       "              rating  rating_counts\n",
       "prod_id                            \n",
       "B00DJFIMW6  4.464645          16221\n",
       "B00BGA9WK2  4.075519           7561\n",
       "B00FAX6XQC  4.190268           5713\n",
       "B009KS4XRO  4.046092           5489\n",
       "B002VBWIP6  4.636802           5190"
      ]
     },
     "execution_count": 9,
     "metadata": {},
     "output_type": "execute_result"
    }
   ],
   "source": [
    "# Performs a grouping of data for each prod_id, eliminating products with less than 50 ratings\n",
    "# Create a dataframe with the groups of prod_id and with the average grade and number of reviews for each product\n",
    "# Finaly, sort than by number of reviews\n",
    "\n",
    "new_df = df.groupby(\"prod_id\").filter(lambda x: x['rating'].count()>=50)\n",
    "ratings_df = pd.DataFrame(new_df.groupby('prod_id').rating.mean())\n",
    "ratings_df['rating_counts'] = new_df.groupby('prod_id').rating.count()\n",
    "ratings_df.sort_values(by='rating_counts', ascending=False, inplace=True)\n",
    "ratings_df.head(5)"
   ]
  },
  {
   "cell_type": "code",
   "execution_count": 10,
   "metadata": {},
   "outputs": [
    {
     "data": {
      "text/html": [
       "<div>\n",
       "<style scoped>\n",
       "    .dataframe tbody tr th:only-of-type {\n",
       "        vertical-align: middle;\n",
       "    }\n",
       "\n",
       "    .dataframe tbody tr th {\n",
       "        vertical-align: top;\n",
       "    }\n",
       "\n",
       "    .dataframe thead th {\n",
       "        text-align: right;\n",
       "    }\n",
       "</style>\n",
       "<table border=\"1\" class=\"dataframe\">\n",
       "  <thead>\n",
       "    <tr style=\"text-align: right;\">\n",
       "      <th></th>\n",
       "      <th>rating</th>\n",
       "      <th>rating_counts</th>\n",
       "      <th>score</th>\n",
       "    </tr>\n",
       "    <tr>\n",
       "      <th>prod_id</th>\n",
       "      <th></th>\n",
       "      <th></th>\n",
       "      <th></th>\n",
       "    </tr>\n",
       "  </thead>\n",
       "  <tbody>\n",
       "    <tr>\n",
       "      <th>B007W8S2MG</th>\n",
       "      <td>4.870044</td>\n",
       "      <td>454</td>\n",
       "      <td>4.783889</td>\n",
       "    </tr>\n",
       "    <tr>\n",
       "      <th>B000B9RI14</th>\n",
       "      <td>4.775701</td>\n",
       "      <td>2996</td>\n",
       "      <td>4.762994</td>\n",
       "    </tr>\n",
       "    <tr>\n",
       "      <th>B004RMK4BC</th>\n",
       "      <td>4.780586</td>\n",
       "      <td>1978</td>\n",
       "      <td>4.761381</td>\n",
       "    </tr>\n",
       "    <tr>\n",
       "      <th>B006OOHYIC</th>\n",
       "      <td>4.780367</td>\n",
       "      <td>1416</td>\n",
       "      <td>4.753806</td>\n",
       "    </tr>\n",
       "    <tr>\n",
       "      <th>B001JKTC9A</th>\n",
       "      <td>4.782918</td>\n",
       "      <td>843</td>\n",
       "      <td>4.739171</td>\n",
       "    </tr>\n",
       "    <tr>\n",
       "      <th>B0055SWM08</th>\n",
       "      <td>4.744718</td>\n",
       "      <td>4638</td>\n",
       "      <td>4.736792</td>\n",
       "    </tr>\n",
       "    <tr>\n",
       "      <th>B0053BCML6</th>\n",
       "      <td>4.785430</td>\n",
       "      <td>755</td>\n",
       "      <td>4.736745</td>\n",
       "    </tr>\n",
       "    <tr>\n",
       "      <th>B003O6E800</th>\n",
       "      <td>4.790490</td>\n",
       "      <td>673</td>\n",
       "      <td>4.735934</td>\n",
       "    </tr>\n",
       "    <tr>\n",
       "      <th>B00AKIPBNS</th>\n",
       "      <td>4.803403</td>\n",
       "      <td>529</td>\n",
       "      <td>4.734162</td>\n",
       "    </tr>\n",
       "    <tr>\n",
       "      <th>B007CM0K86</th>\n",
       "      <td>4.734022</td>\n",
       "      <td>2034</td>\n",
       "      <td>4.716449</td>\n",
       "    </tr>\n",
       "    <tr>\n",
       "      <th>B004RMK5QG</th>\n",
       "      <td>4.740520</td>\n",
       "      <td>1345</td>\n",
       "      <td>4.714036</td>\n",
       "    </tr>\n",
       "    <tr>\n",
       "      <th>B00000DMB3</th>\n",
       "      <td>4.775701</td>\n",
       "      <td>428</td>\n",
       "      <td>4.694728</td>\n",
       "    </tr>\n",
       "    <tr>\n",
       "      <th>B00DC7G0GG</th>\n",
       "      <td>4.753247</td>\n",
       "      <td>462</td>\n",
       "      <td>4.679844</td>\n",
       "    </tr>\n",
       "    <tr>\n",
       "      <th>B002I0K3Z2</th>\n",
       "      <td>4.757946</td>\n",
       "      <td>409</td>\n",
       "      <td>4.675556</td>\n",
       "    </tr>\n",
       "    <tr>\n",
       "      <th>B0086V5UF0</th>\n",
       "      <td>4.686441</td>\n",
       "      <td>1888</td>\n",
       "      <td>4.668772</td>\n",
       "    </tr>\n",
       "  </tbody>\n",
       "</table>\n",
       "</div>"
      ],
      "text/plain": [
       "              rating  rating_counts     score\n",
       "prod_id                                      \n",
       "B007W8S2MG  4.870044            454  4.783889\n",
       "B000B9RI14  4.775701           2996  4.762994\n",
       "B004RMK4BC  4.780586           1978  4.761381\n",
       "B006OOHYIC  4.780367           1416  4.753806\n",
       "B001JKTC9A  4.782918            843  4.739171\n",
       "B0055SWM08  4.744718           4638  4.736792\n",
       "B0053BCML6  4.785430            755  4.736745\n",
       "B003O6E800  4.790490            673  4.735934\n",
       "B00AKIPBNS  4.803403            529  4.734162\n",
       "B007CM0K86  4.734022           2034  4.716449\n",
       "B004RMK5QG  4.740520           1345  4.714036\n",
       "B00000DMB3  4.775701            428  4.694728\n",
       "B00DC7G0GG  4.753247            462  4.679844\n",
       "B002I0K3Z2  4.757946            409  4.675556\n",
       "B0086V5UF0  4.686441           1888  4.668772"
      ]
     },
     "execution_count": 10,
     "metadata": {},
     "output_type": "execute_result"
    }
   ],
   "source": [
    "# Using Weighted Average to rank the most popular products\n",
    "\n",
    "global_ave = ratings_df['rating'].mean() # global average grade\n",
    "min_reviews = ratings_df.rating_counts.min() # min number of reviews\n",
    "\n",
    "def weighted_rating (x, mini=min_reviews, ave=global_ave):\n",
    "    '''Calculates the Weighted Average'''\n",
    "    qty_rated, rated = x['rating_counts'], x['rating']\n",
    "    return (qty_rated/(qty_rated+mini) * rated) + (mini/(mini+qty_rated) * ave)\n",
    "\n",
    "# Add weighted average\n",
    "ratings_df['score'] = ratings_df.apply(weighted_rating, axis=1)\n",
    "\n",
    "# Top 15 product\n",
    "ratings_df.sort_values(by='score', ascending=False).head(15)"
   ]
  },
  {
   "cell_type": "markdown",
   "metadata": {},
   "source": [
    "# Model-Based Recommender with SVD Algorithm"
   ]
  },
  {
   "cell_type": "code",
   "execution_count": 11,
   "metadata": {},
   "outputs": [],
   "source": [
    "# libs\n",
    "from sklearn.decomposition import TruncatedSVD"
   ]
  },
  {
   "cell_type": "code",
   "execution_count": 12,
   "metadata": {},
   "outputs": [],
   "source": [
    "# Using less computing power\n",
    "new_df1 = new_df.head(10000)"
   ]
  },
  {
   "cell_type": "code",
   "execution_count": 13,
   "metadata": {},
   "outputs": [
    {
     "data": {
      "text/html": [
       "<div>\n",
       "<style scoped>\n",
       "    .dataframe tbody tr th:only-of-type {\n",
       "        vertical-align: middle;\n",
       "    }\n",
       "\n",
       "    .dataframe tbody tr th {\n",
       "        vertical-align: top;\n",
       "    }\n",
       "\n",
       "    .dataframe thead th {\n",
       "        text-align: right;\n",
       "    }\n",
       "</style>\n",
       "<table border=\"1\" class=\"dataframe\">\n",
       "  <thead>\n",
       "    <tr style=\"text-align: right;\">\n",
       "      <th>user_id</th>\n",
       "      <th>A00101961G0VS92WDGJ11</th>\n",
       "      <th>A005481137I9SCAWEF7ON</th>\n",
       "      <th>A01216171YWQSRTRHU4H9</th>\n",
       "      <th>A01731241L8XB77IR452F</th>\n",
       "      <th>A01884501K8YJA7INI48C</th>\n",
       "      <th>A027789439O0P7O3QFRXZ</th>\n",
       "      <th>A0759107CA9MPWVRF6VN</th>\n",
       "      <th>A09587941OLU2Q9CYHEK3</th>\n",
       "      <th>A1009ZW0J12D7Z</th>\n",
       "      <th>A100NE7N89DVC0</th>\n",
       "      <th>...</th>\n",
       "      <th>AZWKRO5BBSBEB</th>\n",
       "      <th>AZWTRKAX60DLB</th>\n",
       "      <th>AZX5WHG91VWM8</th>\n",
       "      <th>AZXB8LNCNF2FD</th>\n",
       "      <th>AZXSDJPMNWMRC</th>\n",
       "      <th>AZXXA93Z1H9FU</th>\n",
       "      <th>AZZC1A5U9CAGW</th>\n",
       "      <th>AZZUIE66HZNY1</th>\n",
       "      <th>AZZW55XIQD8QC</th>\n",
       "      <th>AZZZEWADNFNUM</th>\n",
       "    </tr>\n",
       "    <tr>\n",
       "      <th>prod_id</th>\n",
       "      <th></th>\n",
       "      <th></th>\n",
       "      <th></th>\n",
       "      <th></th>\n",
       "      <th></th>\n",
       "      <th></th>\n",
       "      <th></th>\n",
       "      <th></th>\n",
       "      <th></th>\n",
       "      <th></th>\n",
       "      <th></th>\n",
       "      <th></th>\n",
       "      <th></th>\n",
       "      <th></th>\n",
       "      <th></th>\n",
       "      <th></th>\n",
       "      <th></th>\n",
       "      <th></th>\n",
       "      <th></th>\n",
       "      <th></th>\n",
       "      <th></th>\n",
       "    </tr>\n",
       "  </thead>\n",
       "  <tbody>\n",
       "    <tr>\n",
       "      <th>0700099867</th>\n",
       "      <td>0</td>\n",
       "      <td>0</td>\n",
       "      <td>0</td>\n",
       "      <td>0</td>\n",
       "      <td>0</td>\n",
       "      <td>0</td>\n",
       "      <td>0</td>\n",
       "      <td>0</td>\n",
       "      <td>0</td>\n",
       "      <td>0</td>\n",
       "      <td>...</td>\n",
       "      <td>0</td>\n",
       "      <td>0</td>\n",
       "      <td>0</td>\n",
       "      <td>0</td>\n",
       "      <td>0</td>\n",
       "      <td>0</td>\n",
       "      <td>0</td>\n",
       "      <td>0</td>\n",
       "      <td>0</td>\n",
       "      <td>0</td>\n",
       "    </tr>\n",
       "    <tr>\n",
       "      <th>6050036071</th>\n",
       "      <td>0</td>\n",
       "      <td>0</td>\n",
       "      <td>0</td>\n",
       "      <td>0</td>\n",
       "      <td>0</td>\n",
       "      <td>0</td>\n",
       "      <td>0</td>\n",
       "      <td>0</td>\n",
       "      <td>0</td>\n",
       "      <td>0</td>\n",
       "      <td>...</td>\n",
       "      <td>0</td>\n",
       "      <td>0</td>\n",
       "      <td>0</td>\n",
       "      <td>0</td>\n",
       "      <td>0</td>\n",
       "      <td>0</td>\n",
       "      <td>0</td>\n",
       "      <td>0</td>\n",
       "      <td>0</td>\n",
       "      <td>0</td>\n",
       "    </tr>\n",
       "    <tr>\n",
       "      <th>7293000936</th>\n",
       "      <td>0</td>\n",
       "      <td>0</td>\n",
       "      <td>0</td>\n",
       "      <td>0</td>\n",
       "      <td>0</td>\n",
       "      <td>0</td>\n",
       "      <td>0</td>\n",
       "      <td>0</td>\n",
       "      <td>0</td>\n",
       "      <td>0</td>\n",
       "      <td>...</td>\n",
       "      <td>0</td>\n",
       "      <td>0</td>\n",
       "      <td>0</td>\n",
       "      <td>0</td>\n",
       "      <td>0</td>\n",
       "      <td>0</td>\n",
       "      <td>0</td>\n",
       "      <td>0</td>\n",
       "      <td>0</td>\n",
       "      <td>0</td>\n",
       "    </tr>\n",
       "    <tr>\n",
       "      <th>8565000168</th>\n",
       "      <td>0</td>\n",
       "      <td>0</td>\n",
       "      <td>0</td>\n",
       "      <td>0</td>\n",
       "      <td>0</td>\n",
       "      <td>0</td>\n",
       "      <td>0</td>\n",
       "      <td>0</td>\n",
       "      <td>0</td>\n",
       "      <td>0</td>\n",
       "      <td>...</td>\n",
       "      <td>0</td>\n",
       "      <td>0</td>\n",
       "      <td>0</td>\n",
       "      <td>0</td>\n",
       "      <td>0</td>\n",
       "      <td>0</td>\n",
       "      <td>0</td>\n",
       "      <td>0</td>\n",
       "      <td>0</td>\n",
       "      <td>0</td>\n",
       "    </tr>\n",
       "    <tr>\n",
       "      <th>9625990674</th>\n",
       "      <td>0</td>\n",
       "      <td>0</td>\n",
       "      <td>0</td>\n",
       "      <td>0</td>\n",
       "      <td>0</td>\n",
       "      <td>0</td>\n",
       "      <td>0</td>\n",
       "      <td>0</td>\n",
       "      <td>0</td>\n",
       "      <td>0</td>\n",
       "      <td>...</td>\n",
       "      <td>0</td>\n",
       "      <td>0</td>\n",
       "      <td>0</td>\n",
       "      <td>0</td>\n",
       "      <td>0</td>\n",
       "      <td>0</td>\n",
       "      <td>0</td>\n",
       "      <td>0</td>\n",
       "      <td>0</td>\n",
       "      <td>0</td>\n",
       "    </tr>\n",
       "  </tbody>\n",
       "</table>\n",
       "<p>5 rows × 8764 columns</p>\n",
       "</div>"
      ],
      "text/plain": [
       "user_id     A00101961G0VS92WDGJ11  A005481137I9SCAWEF7ON  \\\n",
       "prod_id                                                    \n",
       "0700099867                      0                      0   \n",
       "6050036071                      0                      0   \n",
       "7293000936                      0                      0   \n",
       "8565000168                      0                      0   \n",
       "9625990674                      0                      0   \n",
       "\n",
       "user_id     A01216171YWQSRTRHU4H9  A01731241L8XB77IR452F  \\\n",
       "prod_id                                                    \n",
       "0700099867                      0                      0   \n",
       "6050036071                      0                      0   \n",
       "7293000936                      0                      0   \n",
       "8565000168                      0                      0   \n",
       "9625990674                      0                      0   \n",
       "\n",
       "user_id     A01884501K8YJA7INI48C  A027789439O0P7O3QFRXZ  \\\n",
       "prod_id                                                    \n",
       "0700099867                      0                      0   \n",
       "6050036071                      0                      0   \n",
       "7293000936                      0                      0   \n",
       "8565000168                      0                      0   \n",
       "9625990674                      0                      0   \n",
       "\n",
       "user_id     A0759107CA9MPWVRF6VN  A09587941OLU2Q9CYHEK3  A1009ZW0J12D7Z  \\\n",
       "prod_id                                                                   \n",
       "0700099867                     0                      0               0   \n",
       "6050036071                     0                      0               0   \n",
       "7293000936                     0                      0               0   \n",
       "8565000168                     0                      0               0   \n",
       "9625990674                     0                      0               0   \n",
       "\n",
       "user_id     A100NE7N89DVC0  ...  AZWKRO5BBSBEB  AZWTRKAX60DLB  AZX5WHG91VWM8  \\\n",
       "prod_id                     ...                                                \n",
       "0700099867               0  ...              0              0              0   \n",
       "6050036071               0  ...              0              0              0   \n",
       "7293000936               0  ...              0              0              0   \n",
       "8565000168               0  ...              0              0              0   \n",
       "9625990674               0  ...              0              0              0   \n",
       "\n",
       "user_id     AZXB8LNCNF2FD  AZXSDJPMNWMRC  AZXXA93Z1H9FU  AZZC1A5U9CAGW  \\\n",
       "prod_id                                                                  \n",
       "0700099867              0              0              0              0   \n",
       "6050036071              0              0              0              0   \n",
       "7293000936              0              0              0              0   \n",
       "8565000168              0              0              0              0   \n",
       "9625990674              0              0              0              0   \n",
       "\n",
       "user_id     AZZUIE66HZNY1  AZZW55XIQD8QC  AZZZEWADNFNUM  \n",
       "prod_id                                                  \n",
       "0700099867              0              0              0  \n",
       "6050036071              0              0              0  \n",
       "7293000936              0              0              0  \n",
       "8565000168              0              0              0  \n",
       "9625990674              0              0              0  \n",
       "\n",
       "[5 rows x 8764 columns]"
      ]
     },
     "execution_count": 13,
     "metadata": {},
     "output_type": "execute_result"
    }
   ],
   "source": [
    "# Create Sparse Matrix and calculate your transpose\n",
    "X = new_df1.pivot_table(values='rating', index='user_id', columns='prod_id', fill_value=0).T\n",
    "X.head()"
   ]
  },
  {
   "cell_type": "code",
   "execution_count": 14,
   "metadata": {},
   "outputs": [],
   "source": [
    "# Matrix Decomposition - TruncatedSVD function will reduce the dimension of X into the numb of components\n",
    "decomposed_matrix = TruncatedSVD(n_components=10).fit_transform(X)\n",
    "\n",
    "# Create Correlation Matrix\n",
    "correlation_matrix = np.corrcoef(decomposed_matrix)"
   ]
  },
  {
   "cell_type": "code",
   "execution_count": 18,
   "metadata": {},
   "outputs": [],
   "source": [
    "# Get the row/index and id of the product which has been already bought\n",
    "product_names = list(X.index)\n",
    "prod_id = product_names[0]\n",
    "product_row = product_names.index(prod_id)"
   ]
  },
  {
   "cell_type": "code",
   "execution_count": 19,
   "metadata": {},
   "outputs": [],
   "source": [
    "# Get correlation list for that product\n",
    "correlation_product_ID = correlation_matrix[product_row]\n",
    "\n",
    "# Get products with corrcoef greater than 0.65 and remove product already bought \n",
    "Recommend = (list(X.index[correlation_product_ID > 0.65]))\n",
    "Recommend.remove(prod_id)"
   ]
  },
  {
   "cell_type": "code",
   "execution_count": 20,
   "metadata": {},
   "outputs": [
    {
     "name": "stdout",
     "output_type": "stream",
     "text": [
      "The best products for a costumer who buys the product 0700099867 are:\n",
      "\t 1 - 9625990674\n",
      "\t 2 - 9882106463\n"
     ]
    }
   ],
   "source": [
    "print(f\"The best products for a costumer who buys the product {prod_id} are:\")\n",
    "for n in range(len(Recommend)):\n",
    "    print(f'\\t {n+1} - {Recommend[n]}')"
   ]
  },
  {
   "cell_type": "markdown",
   "metadata": {},
   "source": [
    "# Item-Based Recommender: Collaborative Filtering"
   ]
  },
  {
   "cell_type": "code",
   "execution_count": 22,
   "metadata": {},
   "outputs": [],
   "source": [
    "# more libs\n",
    "from surprise import KNNWithMeans, Dataset, accuracy, Reader\n",
    "from surprise.model_selection import train_test_split"
   ]
  },
  {
   "cell_type": "code",
   "execution_count": 23,
   "metadata": {},
   "outputs": [],
   "source": [
    "# Configures the data to be used by the package\n",
    "# Columns follow this order: user_id, prod_id, rating, timestamp (drop)\n",
    "new_df.drop(['timestamp'], axis=1, inplace=True)\n",
    "reader = Reader(rating_scale=(1,4))\n",
    "data = Dataset.load_from_df(new_df,reader)"
   ]
  },
  {
   "cell_type": "code",
   "execution_count": 24,
   "metadata": {},
   "outputs": [
    {
     "name": "stdout",
     "output_type": "stream",
     "text": [
      "Computing the msd similarity matrix...\n",
      "Done computing similarity matrix.\n"
     ]
    }
   ],
   "source": [
    "# Create model - Param user_based: true (based in user); false (based in item)\n",
    "trainset, testset = train_test_split(data, test_size=0.3, random_state=10)\n",
    "model = KNNWithMeans(k=5, sim_options={'user_based':False})\n",
    "model.fit(trainset)\n",
    "\n",
    "# Testing model\n",
    "test_pred = model.test(testset)"
   ]
  },
  {
   "cell_type": "code",
   "execution_count": 25,
   "metadata": {},
   "outputs": [
    {
     "name": "stdout",
     "output_type": "stream",
     "text": [
      "Item-based Model : Test Set\n",
      "RMSE: 1.3557\n"
     ]
    },
    {
     "data": {
      "text/plain": [
       "1.3556857036543437"
      ]
     },
     "execution_count": 25,
     "metadata": {},
     "output_type": "execute_result"
    }
   ],
   "source": [
    "# get RMSE\n",
    "print(\"Item-based Model : Test Set\")\n",
    "accuracy.rmse(test_pred, verbose=True)"
   ]
  },
  {
   "cell_type": "code",
   "execution_count": 26,
   "metadata": {},
   "outputs": [],
   "source": [
    "# Get the products index of the best n recommendation for the product i\n",
    "# i will be the product index in ratings_df dataframe of the chosen product\n",
    "n, i = 10, 1\n",
    "Recommend_idx = model.get_neighbors(i,n)"
   ]
  },
  {
   "cell_type": "code",
   "execution_count": 27,
   "metadata": {},
   "outputs": [
    {
     "name": "stdout",
     "output_type": "stream",
     "text": [
      "The best products for a costumer who buys the product B00BGA9WK2 are:\n",
      "\t 1 - B002BSA20M\n",
      "\t 2 - B004S5PBM0\n",
      "\t 3 - B002JTWODG\n",
      "\t 4 - B004MR3QY4\n",
      "\t 5 - B004UJNN5G\n",
      "\t 6 - B001TORSHO\n",
      "\t 7 - B003VWGBC0\n",
      "\t 8 - B004HHIB8U\n",
      "\t 9 - B00004W4WK\n",
      "\t 10 - B0022TNO7I\n"
     ]
    }
   ],
   "source": [
    "# Here are the 10 recommended product names\n",
    "Recommend = list(ratings_df.iloc[Recommend_idx].index)\n",
    "\n",
    "print(f\"The best products for a costumer who buys the product {ratings_df.iloc[[i]].index[0]} are:\")\n",
    "for n in range(len(Recommend)):\n",
    "    print(f'\\t {n+1} - {Recommend[n]}')"
   ]
  }
 ],
 "metadata": {
  "kernelspec": {
   "display_name": "Python 3",
   "language": "python",
   "name": "python3"
  },
  "language_info": {
   "codemirror_mode": {
    "name": "ipython",
    "version": 3
   },
   "file_extension": ".py",
   "mimetype": "text/x-python",
   "name": "python",
   "nbconvert_exporter": "python",
   "pygments_lexer": "ipython3",
   "version": "3.7.7"
  }
 },
 "nbformat": 4,
 "nbformat_minor": 2
}
